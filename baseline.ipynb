{
  "nbformat": 4,
  "nbformat_minor": 0,
  "metadata": {
    "colab": {
      "provenance": [],
      "gpuType": "T4"
    },
    "kernelspec": {
      "name": "python3",
      "display_name": "Python 3"
    },
    "language_info": {
      "name": "python"
    },
    "accelerator": "GPU",
    "widgets": {
      "application/vnd.jupyter.widget-state+json": {
        "9d753af7878444d09dfa4eec39358863": {
          "model_module": "@jupyter-widgets/controls",
          "model_name": "HBoxModel",
          "model_module_version": "1.5.0",
          "state": {
            "_dom_classes": [],
            "_model_module": "@jupyter-widgets/controls",
            "_model_module_version": "1.5.0",
            "_model_name": "HBoxModel",
            "_view_count": null,
            "_view_module": "@jupyter-widgets/controls",
            "_view_module_version": "1.5.0",
            "_view_name": "HBoxView",
            "box_style": "",
            "children": [
              "IPY_MODEL_8618d5000b9b49348dc24bbc8416a72e",
              "IPY_MODEL_88c65bc485e44df9834c1a3132c96f5c",
              "IPY_MODEL_39e9ffc8340c4d8187bff8780fb8de9b"
            ],
            "layout": "IPY_MODEL_4680a9ebebc04b4881a9b50cfb99eda6"
          }
        },
        "8618d5000b9b49348dc24bbc8416a72e": {
          "model_module": "@jupyter-widgets/controls",
          "model_name": "HTMLModel",
          "model_module_version": "1.5.0",
          "state": {
            "_dom_classes": [],
            "_model_module": "@jupyter-widgets/controls",
            "_model_module_version": "1.5.0",
            "_model_name": "HTMLModel",
            "_view_count": null,
            "_view_module": "@jupyter-widgets/controls",
            "_view_module_version": "1.5.0",
            "_view_name": "HTMLView",
            "description": "",
            "description_tooltip": null,
            "layout": "IPY_MODEL_221f3dd0c99f487bb0687d001c4f897f",
            "placeholder": "​",
            "style": "IPY_MODEL_b483e596ffe142a4924da3417616cd1f",
            "value": "  4%"
          }
        },
        "88c65bc485e44df9834c1a3132c96f5c": {
          "model_module": "@jupyter-widgets/controls",
          "model_name": "FloatProgressModel",
          "model_module_version": "1.5.0",
          "state": {
            "_dom_classes": [],
            "_model_module": "@jupyter-widgets/controls",
            "_model_module_version": "1.5.0",
            "_model_name": "FloatProgressModel",
            "_view_count": null,
            "_view_module": "@jupyter-widgets/controls",
            "_view_module_version": "1.5.0",
            "_view_name": "ProgressView",
            "bar_style": "",
            "description": "",
            "description_tooltip": null,
            "layout": "IPY_MODEL_582926cabcba4a549e68c2b581965db0",
            "max": 50,
            "min": 0,
            "orientation": "horizontal",
            "style": "IPY_MODEL_dbfe084a750d463c910efab315a601fe",
            "value": 2
          }
        },
        "39e9ffc8340c4d8187bff8780fb8de9b": {
          "model_module": "@jupyter-widgets/controls",
          "model_name": "HTMLModel",
          "model_module_version": "1.5.0",
          "state": {
            "_dom_classes": [],
            "_model_module": "@jupyter-widgets/controls",
            "_model_module_version": "1.5.0",
            "_model_name": "HTMLModel",
            "_view_count": null,
            "_view_module": "@jupyter-widgets/controls",
            "_view_module_version": "1.5.0",
            "_view_name": "HTMLView",
            "description": "",
            "description_tooltip": null,
            "layout": "IPY_MODEL_8f7ce0876d724c309555ff07a56a0fda",
            "placeholder": "​",
            "style": "IPY_MODEL_6e72b0d561e44ad8954932a626561edc",
            "value": " 2/50 [00:43&lt;17:31, 21.90s/it]"
          }
        },
        "4680a9ebebc04b4881a9b50cfb99eda6": {
          "model_module": "@jupyter-widgets/base",
          "model_name": "LayoutModel",
          "model_module_version": "1.2.0",
          "state": {
            "_model_module": "@jupyter-widgets/base",
            "_model_module_version": "1.2.0",
            "_model_name": "LayoutModel",
            "_view_count": null,
            "_view_module": "@jupyter-widgets/base",
            "_view_module_version": "1.2.0",
            "_view_name": "LayoutView",
            "align_content": null,
            "align_items": null,
            "align_self": null,
            "border": null,
            "bottom": null,
            "display": null,
            "flex": null,
            "flex_flow": null,
            "grid_area": null,
            "grid_auto_columns": null,
            "grid_auto_flow": null,
            "grid_auto_rows": null,
            "grid_column": null,
            "grid_gap": null,
            "grid_row": null,
            "grid_template_areas": null,
            "grid_template_columns": null,
            "grid_template_rows": null,
            "height": null,
            "justify_content": null,
            "justify_items": null,
            "left": null,
            "margin": null,
            "max_height": null,
            "max_width": null,
            "min_height": null,
            "min_width": null,
            "object_fit": null,
            "object_position": null,
            "order": null,
            "overflow": null,
            "overflow_x": null,
            "overflow_y": null,
            "padding": null,
            "right": null,
            "top": null,
            "visibility": null,
            "width": null
          }
        },
        "221f3dd0c99f487bb0687d001c4f897f": {
          "model_module": "@jupyter-widgets/base",
          "model_name": "LayoutModel",
          "model_module_version": "1.2.0",
          "state": {
            "_model_module": "@jupyter-widgets/base",
            "_model_module_version": "1.2.0",
            "_model_name": "LayoutModel",
            "_view_count": null,
            "_view_module": "@jupyter-widgets/base",
            "_view_module_version": "1.2.0",
            "_view_name": "LayoutView",
            "align_content": null,
            "align_items": null,
            "align_self": null,
            "border": null,
            "bottom": null,
            "display": null,
            "flex": null,
            "flex_flow": null,
            "grid_area": null,
            "grid_auto_columns": null,
            "grid_auto_flow": null,
            "grid_auto_rows": null,
            "grid_column": null,
            "grid_gap": null,
            "grid_row": null,
            "grid_template_areas": null,
            "grid_template_columns": null,
            "grid_template_rows": null,
            "height": null,
            "justify_content": null,
            "justify_items": null,
            "left": null,
            "margin": null,
            "max_height": null,
            "max_width": null,
            "min_height": null,
            "min_width": null,
            "object_fit": null,
            "object_position": null,
            "order": null,
            "overflow": null,
            "overflow_x": null,
            "overflow_y": null,
            "padding": null,
            "right": null,
            "top": null,
            "visibility": null,
            "width": null
          }
        },
        "b483e596ffe142a4924da3417616cd1f": {
          "model_module": "@jupyter-widgets/controls",
          "model_name": "DescriptionStyleModel",
          "model_module_version": "1.5.0",
          "state": {
            "_model_module": "@jupyter-widgets/controls",
            "_model_module_version": "1.5.0",
            "_model_name": "DescriptionStyleModel",
            "_view_count": null,
            "_view_module": "@jupyter-widgets/base",
            "_view_module_version": "1.2.0",
            "_view_name": "StyleView",
            "description_width": ""
          }
        },
        "582926cabcba4a549e68c2b581965db0": {
          "model_module": "@jupyter-widgets/base",
          "model_name": "LayoutModel",
          "model_module_version": "1.2.0",
          "state": {
            "_model_module": "@jupyter-widgets/base",
            "_model_module_version": "1.2.0",
            "_model_name": "LayoutModel",
            "_view_count": null,
            "_view_module": "@jupyter-widgets/base",
            "_view_module_version": "1.2.0",
            "_view_name": "LayoutView",
            "align_content": null,
            "align_items": null,
            "align_self": null,
            "border": null,
            "bottom": null,
            "display": null,
            "flex": null,
            "flex_flow": null,
            "grid_area": null,
            "grid_auto_columns": null,
            "grid_auto_flow": null,
            "grid_auto_rows": null,
            "grid_column": null,
            "grid_gap": null,
            "grid_row": null,
            "grid_template_areas": null,
            "grid_template_columns": null,
            "grid_template_rows": null,
            "height": null,
            "justify_content": null,
            "justify_items": null,
            "left": null,
            "margin": null,
            "max_height": null,
            "max_width": null,
            "min_height": null,
            "min_width": null,
            "object_fit": null,
            "object_position": null,
            "order": null,
            "overflow": null,
            "overflow_x": null,
            "overflow_y": null,
            "padding": null,
            "right": null,
            "top": null,
            "visibility": null,
            "width": null
          }
        },
        "dbfe084a750d463c910efab315a601fe": {
          "model_module": "@jupyter-widgets/controls",
          "model_name": "ProgressStyleModel",
          "model_module_version": "1.5.0",
          "state": {
            "_model_module": "@jupyter-widgets/controls",
            "_model_module_version": "1.5.0",
            "_model_name": "ProgressStyleModel",
            "_view_count": null,
            "_view_module": "@jupyter-widgets/base",
            "_view_module_version": "1.2.0",
            "_view_name": "StyleView",
            "bar_color": null,
            "description_width": ""
          }
        },
        "8f7ce0876d724c309555ff07a56a0fda": {
          "model_module": "@jupyter-widgets/base",
          "model_name": "LayoutModel",
          "model_module_version": "1.2.0",
          "state": {
            "_model_module": "@jupyter-widgets/base",
            "_model_module_version": "1.2.0",
            "_model_name": "LayoutModel",
            "_view_count": null,
            "_view_module": "@jupyter-widgets/base",
            "_view_module_version": "1.2.0",
            "_view_name": "LayoutView",
            "align_content": null,
            "align_items": null,
            "align_self": null,
            "border": null,
            "bottom": null,
            "display": null,
            "flex": null,
            "flex_flow": null,
            "grid_area": null,
            "grid_auto_columns": null,
            "grid_auto_flow": null,
            "grid_auto_rows": null,
            "grid_column": null,
            "grid_gap": null,
            "grid_row": null,
            "grid_template_areas": null,
            "grid_template_columns": null,
            "grid_template_rows": null,
            "height": null,
            "justify_content": null,
            "justify_items": null,
            "left": null,
            "margin": null,
            "max_height": null,
            "max_width": null,
            "min_height": null,
            "min_width": null,
            "object_fit": null,
            "object_position": null,
            "order": null,
            "overflow": null,
            "overflow_x": null,
            "overflow_y": null,
            "padding": null,
            "right": null,
            "top": null,
            "visibility": null,
            "width": null
          }
        },
        "6e72b0d561e44ad8954932a626561edc": {
          "model_module": "@jupyter-widgets/controls",
          "model_name": "DescriptionStyleModel",
          "model_module_version": "1.5.0",
          "state": {
            "_model_module": "@jupyter-widgets/controls",
            "_model_module_version": "1.5.0",
            "_model_name": "DescriptionStyleModel",
            "_view_count": null,
            "_view_module": "@jupyter-widgets/base",
            "_view_module_version": "1.2.0",
            "_view_name": "StyleView",
            "description_width": ""
          }
        }
      }
    }
  },
  "cells": [
    {
      "cell_type": "markdown",
      "source": [
        "## Install library that exists in colab"
      ],
      "metadata": {
        "id": "Lj0EDrCis3re"
      }
    },
    {
      "cell_type": "code",
      "source": [
        "!pip install torchmetrics"
      ],
      "metadata": {
        "colab": {
          "base_uri": "https://localhost:8080/"
        },
        "id": "JmmwmUWOs0Vb",
        "outputId": "939ad5e8-4df1-4946-e6bb-02efae94a46d"
      },
      "execution_count": null,
      "outputs": [
        {
          "output_type": "stream",
          "name": "stdout",
          "text": [
            "Collecting torchmetrics\n",
            "  Downloading torchmetrics-1.2.0-py3-none-any.whl (805 kB)\n",
            "\u001b[2K     \u001b[90m━━━━━━━━━━━━━━━━━━━━━━━━━━━━━━━━━━━━━━━━\u001b[0m \u001b[32m805.2/805.2 kB\u001b[0m \u001b[31m9.0 MB/s\u001b[0m eta \u001b[36m0:00:00\u001b[0m\n",
            "\u001b[?25hRequirement already satisfied: numpy>1.20.0 in /usr/local/lib/python3.10/dist-packages (from torchmetrics) (1.23.5)\n",
            "Requirement already satisfied: torch>=1.8.1 in /usr/local/lib/python3.10/dist-packages (from torchmetrics) (2.1.0+cu118)\n",
            "Collecting lightning-utilities>=0.8.0 (from torchmetrics)\n",
            "  Downloading lightning_utilities-0.9.0-py3-none-any.whl (23 kB)\n",
            "Requirement already satisfied: packaging>=17.1 in /usr/local/lib/python3.10/dist-packages (from lightning-utilities>=0.8.0->torchmetrics) (23.2)\n",
            "Requirement already satisfied: typing-extensions in /usr/local/lib/python3.10/dist-packages (from lightning-utilities>=0.8.0->torchmetrics) (4.5.0)\n",
            "Requirement already satisfied: filelock in /usr/local/lib/python3.10/dist-packages (from torch>=1.8.1->torchmetrics) (3.12.4)\n",
            "Requirement already satisfied: sympy in /usr/local/lib/python3.10/dist-packages (from torch>=1.8.1->torchmetrics) (1.12)\n",
            "Requirement already satisfied: networkx in /usr/local/lib/python3.10/dist-packages (from torch>=1.8.1->torchmetrics) (3.2)\n",
            "Requirement already satisfied: jinja2 in /usr/local/lib/python3.10/dist-packages (from torch>=1.8.1->torchmetrics) (3.1.2)\n",
            "Requirement already satisfied: fsspec in /usr/local/lib/python3.10/dist-packages (from torch>=1.8.1->torchmetrics) (2023.6.0)\n",
            "Requirement already satisfied: triton==2.1.0 in /usr/local/lib/python3.10/dist-packages (from torch>=1.8.1->torchmetrics) (2.1.0)\n",
            "Requirement already satisfied: MarkupSafe>=2.0 in /usr/local/lib/python3.10/dist-packages (from jinja2->torch>=1.8.1->torchmetrics) (2.1.3)\n",
            "Requirement already satisfied: mpmath>=0.19 in /usr/local/lib/python3.10/dist-packages (from sympy->torch>=1.8.1->torchmetrics) (1.3.0)\n",
            "Installing collected packages: lightning-utilities, torchmetrics\n",
            "Successfully installed lightning-utilities-0.9.0 torchmetrics-1.2.0\n"
          ]
        }
      ]
    },
    {
      "cell_type": "markdown",
      "source": [
        "## Import Libraries"
      ],
      "metadata": {
        "id": "wdWfQ-AwfxRi"
      }
    },
    {
      "cell_type": "code",
      "source": [
        "from torchmetrics.classification import MulticlassConfusionMatrix\n",
        "import unicodedata\n",
        "\n",
        "import torch\n",
        "from torch import nn\n",
        "import torch.nn.functional as F\n",
        "import torch.optim as optim\n",
        "from torchvision.utils import make_grid\n",
        "from torchvision import models\n",
        "import torchvision\n",
        "import torchvision.transforms as transforms\n",
        "from PIL import Image\n",
        "\n",
        "from tqdm.notebook import tqdm\n",
        "import matplotlib.pyplot as plt\n",
        "import numpy as np\n",
        "import seaborn as sns"
      ],
      "metadata": {
        "id": "zkep5XWbcf1o"
      },
      "execution_count": null,
      "outputs": []
    },
    {
      "cell_type": "markdown",
      "source": [
        "## Define Hyperparameters"
      ],
      "metadata": {
        "id": "PeLuk_WWf7ot"
      }
    },
    {
      "cell_type": "code",
      "source": [
        "CONFIG = {'seed':42,\n",
        "          'batch_size':32,\n",
        "          'epoch':50,\n",
        "          'num_workers':8,\n",
        "          'lr':0.001,\n",
        "          }"
      ],
      "metadata": {
        "id": "OIWFJDkGh91B"
      },
      "execution_count": null,
      "outputs": []
    },
    {
      "cell_type": "markdown",
      "source": [
        "## Define seed"
      ],
      "metadata": {
        "id": "TcaM4Ksphlme"
      }
    },
    {
      "cell_type": "code",
      "source": [
        "def seed_all(seed):\n",
        "  np.random.seed(seed)\n",
        "  # torch.manual_seed(seed)\n",
        "  # torch.cuda.manual_seed(seed)\n",
        "  # torch.cuda.manual_seed_all(seed)\n",
        "  # torch.backends.cudnn.deterministic = True\n",
        "  # torch.backends.cudnn.benchmark = False\n",
        "  # torch.backends.cudnn.enabled = False\n",
        "\n",
        "seed_all(CONFIG['seed'])"
      ],
      "metadata": {
        "id": "LNUG4TYUhlK6"
      },
      "execution_count": null,
      "outputs": []
    },
    {
      "cell_type": "markdown",
      "source": [
        "## Decide to use GPU or CPU"
      ],
      "metadata": {
        "id": "OwKFIy2Zf_3H"
      }
    },
    {
      "cell_type": "code",
      "source": [
        "torch.cuda.is_available()"
      ],
      "metadata": {
        "id": "hK04BouBhqd7",
        "colab": {
          "base_uri": "https://localhost:8080/"
        },
        "outputId": "6cd85680-4486-4a68-b983-8fafc8341f4e"
      },
      "execution_count": null,
      "outputs": [
        {
          "output_type": "execute_result",
          "data": {
            "text/plain": [
              "True"
            ]
          },
          "metadata": {},
          "execution_count": 5
        }
      ]
    },
    {
      "cell_type": "code",
      "source": [
        "device = torch.device('cuda:0' if torch.cuda.is_available() else 'cpu')\n",
        "\n",
        "# or\n",
        "\n",
        "if torch.cuda.is_available():\n",
        "  device = torch.device('cuda:0')\n",
        "else:\n",
        "  device = torch.device('cpu')"
      ],
      "metadata": {
        "id": "ToQNX6PZhXDO"
      },
      "execution_count": null,
      "outputs": []
    },
    {
      "cell_type": "markdown",
      "source": [
        "## Download Data"
      ],
      "metadata": {
        "id": "c72kxCxRgH9X"
      }
    },
    {
      "cell_type": "code",
      "source": [
        "cifar10 = torchvision.datasets.CIFAR10(root='./data', train=True, download=True)"
      ],
      "metadata": {
        "id": "pa0DpuRMcpQj",
        "colab": {
          "base_uri": "https://localhost:8080/"
        },
        "outputId": "66360411-810b-4894-ba30-e00d95f1a828"
      },
      "execution_count": null,
      "outputs": [
        {
          "output_type": "stream",
          "name": "stdout",
          "text": [
            "Downloading https://www.cs.toronto.edu/~kriz/cifar-10-python.tar.gz to ./data/cifar-10-python.tar.gz\n"
          ]
        },
        {
          "output_type": "stream",
          "name": "stderr",
          "text": [
            "100%|██████████| 170498071/170498071 [00:03<00:00, 43629957.26it/s]\n"
          ]
        },
        {
          "output_type": "stream",
          "name": "stdout",
          "text": [
            "Extracting ./data/cifar-10-python.tar.gz to ./data\n"
          ]
        }
      ]
    },
    {
      "cell_type": "markdown",
      "source": [
        "## Check Data"
      ],
      "metadata": {
        "id": "JzCHzIi-gMSb"
      }
    },
    {
      "cell_type": "code",
      "source": [
        "cifar10"
      ],
      "metadata": {
        "id": "ZkR-aOXocrTB",
        "colab": {
          "base_uri": "https://localhost:8080/"
        },
        "outputId": "70abc0f1-b4a5-48ee-c2cb-5a80a33f06b9"
      },
      "execution_count": null,
      "outputs": [
        {
          "output_type": "execute_result",
          "data": {
            "text/plain": [
              "Dataset CIFAR10\n",
              "    Number of datapoints: 50000\n",
              "    Root location: ./data\n",
              "    Split: Train"
            ]
          },
          "metadata": {},
          "execution_count": 8
        }
      ]
    },
    {
      "cell_type": "markdown",
      "source": [
        "## Check shape of *data*"
      ],
      "metadata": {
        "id": "xGmfAdlQgR34"
      }
    },
    {
      "cell_type": "code",
      "source": [
        "cifar10.data[0].shape"
      ],
      "metadata": {
        "id": "sEEVA0Ix7Bhh",
        "colab": {
          "base_uri": "https://localhost:8080/"
        },
        "outputId": "7ff44675-723d-4e29-f86a-7b6a5a69274b"
      },
      "execution_count": null,
      "outputs": [
        {
          "output_type": "execute_result",
          "data": {
            "text/plain": [
              "(32, 32, 3)"
            ]
          },
          "metadata": {},
          "execution_count": 9
        }
      ]
    },
    {
      "cell_type": "markdown",
      "source": [
        "## Define function that prints images"
      ],
      "metadata": {
        "id": "NWXZ9nJ8gVZf"
      }
    },
    {
      "cell_type": "code",
      "source": [
        "def display_images():\n",
        "    fig, subplots = plt.subplots(1, 5, figsize=(13, 6))\n",
        "    for i in range(5):\n",
        "        axi1 = subplots.flat[i]\n",
        "        original_img = Image.fromarray(cifar10.data[i])\n",
        "        axi1.imshow(original_img)\n",
        "        axi1.set_title('original_img')"
      ],
      "metadata": {
        "id": "i0g0bEA8c0os"
      },
      "execution_count": null,
      "outputs": []
    },
    {
      "cell_type": "markdown",
      "source": [
        "## Print images"
      ],
      "metadata": {
        "id": "-f_Mm70agsid"
      }
    },
    {
      "cell_type": "code",
      "source": [
        "display_images()"
      ],
      "metadata": {
        "id": "pLQjxYTrc-tj",
        "colab": {
          "base_uri": "https://localhost:8080/",
          "height": 256
        },
        "outputId": "45611b4f-d60b-4fe2-e035-e3639fdc7b6d"
      },
      "execution_count": null,
      "outputs": [
        {
          "output_type": "display_data",
          "data": {
            "text/plain": [
              "<Figure size 1300x600 with 5 Axes>"
            ],
            "image/png": "[encoded data removed]"
          },
          "metadata": {}
        }
      ]
    },
    {
      "cell_type": "markdown",
      "source": [
        "https://pytorch.org/docs/stable/nn.functional.html"
      ],
      "metadata": {
        "id": "AJEpCOxFercp"
      }
    },
    {
      "cell_type": "markdown",
      "source": [
        "## Load data with data augmentation(데이터 변환)\n",
        "\n",
        "https://pytorch.org/vision/main/transforms.html"
      ],
      "metadata": {
        "id": "wxl7OP-cfs3Q"
      }
    },
    {
      "cell_type": "code",
      "source": [
        "# This mean and std is made by Imagenet\n",
        "# transforms.Normalize((0.485, 0.456, 0.406),(0.229, 0.224, 0.225))\n",
        "\n",
        "train_data_transform = transforms.Compose([transforms.ToTensor(),\n",
        "                                     transforms.Normalize((0.5, 0.5, 0.5), (0.5, 0.5, 0.5))])\n",
        "\n",
        "val_data_transform = transforms.Compose([transforms.ToTensor(),\n",
        "                                     transforms.Normalize((0.5, 0.5, 0.5), (0.5, 0.5, 0.5))])\n",
        "\n",
        "traindata = torchvision.datasets.CIFAR10(root='./data',\n",
        "                                         train=True,\n",
        "                                         download=False,\n",
        "                                         transform=train_data_transform)\n",
        "\n",
        "testdata = torchvision.datasets.CIFAR10(root='./data',\n",
        "                                        train=False,\n",
        "                                        download=False,\n",
        "                                        transform=val_data_transform)\n"
      ],
      "metadata": {
        "id": "gSwfrotFhB3R"
      },
      "execution_count": null,
      "outputs": []
    },
    {
      "cell_type": "code",
      "source": [
        "trainloader = torch.utils.data.DataLoader(traindata, batch_size=CONFIG['batch_size'],\n",
        "                                          shuffle=True, num_workers=CONFIG['num_workers'])\n",
        "\n",
        "testloader = torch.utils.data.DataLoader(testdata, batch_size=CONFIG['batch_size'],\n",
        "                                         shuffle=False, num_workers=CONFIG['num_workers'])"
      ],
      "metadata": {
        "id": "m9XQ6tTGik0p",
        "colab": {
          "base_uri": "https://localhost:8080/"
        },
        "outputId": "dec5dcbb-b255-41e1-99ca-8061fbb3986e"
      },
      "execution_count": null,
      "outputs": [
        {
          "output_type": "stream",
          "name": "stderr",
          "text": [
            "/usr/local/lib/python3.10/dist-packages/torch/utils/data/dataloader.py:557: UserWarning: This DataLoader will create 8 worker processes in total. Our suggested max number of worker in current system is 2, which is smaller than what this DataLoader is going to create. Please be aware that excessive worker creation might get DataLoader running slow or even freeze, lower the worker number to avoid potential slowness/freeze if necessary.\n",
            "  warnings.warn(_create_warning_msg(\n"
          ]
        }
      ]
    },
    {
      "cell_type": "code",
      "source": [
        "classes = traindata.classes"
      ],
      "metadata": {
        "id": "LM_wOqo3rP9Q"
      },
      "execution_count": null,
      "outputs": []
    },
    {
      "cell_type": "markdown",
      "source": [
        "## Define model object"
      ],
      "metadata": {
        "id": "XxcbXzhAiOjR"
      }
    },
    {
      "cell_type": "code",
      "source": [
        "# class DNN(nn.Module):\n",
        "#   def __init__(self):\n",
        "#     super().__init__()\n",
        "#     self.fc1 = nn.Linear(3 * 32 * 32, 4096)\n",
        "#     self.fc2 = nn.Linear(4096, 4096)\n",
        "#     self.fc3 = nn.Linear(4096, 1024)\n",
        "#     self.fc4 = nn.Linear(1024, 64)\n",
        "#     self.fc5 = nn.Linear(64, 10)\n",
        "#     #self.dropout = nn.Dropout(0.5)\n",
        "\n",
        "#   def forward(self,x):\n",
        "#     x = torch.flatten(x,1)\n",
        "#     x = F.relu(self.fc1(x))\n",
        "#     #x = self.dropout(x)\n",
        "#     x = F.relu(self.fc2(x))\n",
        "#     x = F.relu(self.fc3(x))\n",
        "#     x = F.relu(self.fc4(x))\n",
        "#     x = self.fc5(x)\n",
        "#     #x = F.tanh(self.fc1(x))\n",
        "#     #x = F.sigmoid(self.fc1(x))\n",
        "\n",
        "#     return x\n",
        "\n",
        "\n",
        "# net = DNN()"
      ],
      "metadata": {
        "id": "iwvcBN8XdQLW"
      },
      "execution_count": null,
      "outputs": []
    },
    {
      "cell_type": "code",
      "source": [
        "class Net(nn.Module):\n",
        "    def __init__(self):\n",
        "        super().__init__()\n",
        "        self.conv1 = nn.Conv2d(in_channels=3, out_channels=16, kernel_size=5, stride=1, padding=2)\n",
        "        self.conv2 = nn.Conv2d(in_channels=16, out_channels=32, kernel_size=3, stride=1, padding=1)\n",
        "        #self.bn1 = nn.BatchNorm2d(32)\n",
        "        self.pool = nn.MaxPool2d(kernel_size=2, stride=2)\n",
        "        self.fc1 = nn.Linear(32 * 8 * 8, 120)\n",
        "        self.fc2 = nn.Linear(120, 84)\n",
        "        self.fc3 = nn.Linear(84, 10)\n",
        "\n",
        "    def forward(self, x):\n",
        "        x = self.pool(F.relu(self.conv1(x)))#[batch_size, 3, 36, 36] -> relu([batch_size, 16, 32, 32]) -> [batch_size, 16, 16, 16]\n",
        "        x = self.pool(F.relu(self.conv2(x)))#[batch_size, 16, 18, 18] -> relu[batch_size, 32, 16, 16] -> [batch_size, 32, 8, 8]\n",
        "        #x = self.pool(F.relu(self.bn1(self.conv2(x))))\n",
        "        x = torch.flatten(x, 1) #[batch_size, 32, 8, 8] -> 32 * 8 * 8\n",
        "        x = F.relu(self.fc1(x))#32 * 8 * 8 -> 120\n",
        "        x = F.relu(self.fc2(x))#120 -> 84\n",
        "        x = self.fc3(x)#84 -> 10\n",
        "        return x\n",
        "\n",
        "\n",
        "net = Net()"
      ],
      "metadata": {
        "id": "bff-kJir2Ve4"
      },
      "execution_count": null,
      "outputs": []
    },
    {
      "cell_type": "code",
      "source": [
        "# class Ensemble(nn.Module, model1, model2, model3):\n",
        "#   def __init__(self):\n",
        "#     super().__init__()\n",
        "#     self.model1 = model1\n",
        "#     self.model2 = model2\n",
        "#     self.model3 = model3\n",
        "\n",
        "#   def forward(self,x):\n",
        "#     x1 = self.model1(x)\n",
        "#     x2 = self.model2(x)\n",
        "#     x3 = self.model3(x)\n",
        "#     return x1+x2+x3\n",
        "\n",
        "#net = Emsemble()"
      ],
      "metadata": {
        "id": "nF7K7UJw32B-"
      },
      "execution_count": null,
      "outputs": []
    },
    {
      "cell_type": "markdown",
      "source": [
        "## Load resnet\n",
        "\n",
        "https://pytorch.org/vision/stable/models.html"
      ],
      "metadata": {
        "id": "sUfGGq5Hr7As"
      }
    },
    {
      "cell_type": "code",
      "source": [
        "# net = models.resnet18(pretrained=True)\n",
        "# # resnet18, 34, 50, 101, 152\n",
        "# fc_in_features = net.fc.in_features\n",
        "# net.fc = nn.Linear(fc_in_features,len(classes))"
      ],
      "metadata": {
        "id": "DeMU3BC5rFpm"
      },
      "execution_count": null,
      "outputs": []
    },
    {
      "cell_type": "markdown",
      "source": [
        "## Set loss function and optimizer function"
      ],
      "metadata": {
        "id": "m6zE8RBgiHXn"
      }
    },
    {
      "cell_type": "code",
      "source": [
        "criterion = nn.CrossEntropyLoss()\n",
        "optimizer = optim.SGD(net.parameters(), lr=CONFIG['lr'])#weight_decay=0.001\n",
        "#optimizer = optim.Adam(net.parameters(),lr=CONFIG['lr'])#weight_decay=0.001\n",
        "#optimizer = optimAdamW(net.parameters(),lr=CONFIG['lr'])#weight_decay=0.001\n",
        "net.to(device)"
      ],
      "metadata": {
        "id": "ij2Ujeoc5r8a",
        "colab": {
          "base_uri": "https://localhost:8080/"
        },
        "outputId": "afc925a6-c6ed-45ea-b587-bd1fc6b7d66e"
      },
      "execution_count": null,
      "outputs": [
        {
          "output_type": "execute_result",
          "data": {
            "text/plain": [
              "Net(\n",
              "  (conv1): Conv2d(3, 16, kernel_size=(5, 5), stride=(1, 1), padding=(2, 2))\n",
              "  (conv2): Conv2d(16, 32, kernel_size=(3, 3), stride=(1, 1), padding=(1, 1))\n",
              "  (bn1): BatchNorm2d(32, eps=1e-05, momentum=0.1, affine=True, track_running_stats=True)\n",
              "  (pool): MaxPool2d(kernel_size=2, stride=2, padding=0, dilation=1, ceil_mode=False)\n",
              "  (fc1): Linear(in_features=2048, out_features=120, bias=True)\n",
              "  (fc2): Linear(in_features=120, out_features=84, bias=True)\n",
              "  (fc3): Linear(in_features=84, out_features=10, bias=True)\n",
              ")"
            ]
          },
          "metadata": {},
          "execution_count": 36
        }
      ]
    },
    {
      "cell_type": "markdown",
      "source": [
        "## Set learning rate scheduler"
      ],
      "metadata": {
        "id": "TyppcfD8iEWb"
      }
    },
    {
      "cell_type": "code",
      "source": [
        "#scheduler = optim.lr_scheduler.LambdaLR(optimizer, lr_lambda=lambda epoch: 0.97 ** epoch)\n",
        "#scheduler = optim.lr_scheduler.CosineAnnealingLR(optimizer, T_max=5, eta_min=0.0001)\n",
        "#scheduler = optim.lr_scheduler.CosineAnnealingWarmRestarts(optimizer, T_0=7, T_mult=1, eta_min=0.00005)\n",
        "#scheduler = optim.lr_scheduler.ReduceLROnPlateau(optimizer, mode='max', factor=0.1, patience=7, min_lr=0.000001,verbose=True)"
      ],
      "metadata": {
        "id": "nny_hz-Ih786"
      },
      "execution_count": null,
      "outputs": []
    },
    {
      "cell_type": "code",
      "source": [
        "for epoch in tqdm(range(CONFIG['epoch'])):\n",
        "\n",
        "    running_loss = 0.0\n",
        "    total = 0\n",
        "    correct = 0\n",
        "    for i, data in enumerate(trainloader, 0):\n",
        "        inputs, labels = data[0].to(device), data[1].to(device)\n",
        "\n",
        "        optimizer.zero_grad()\n",
        "\n",
        "        outputs = net(inputs)\n",
        "        loss = criterion(outputs, labels)\n",
        "        loss.backward()\n",
        "        optimizer.step()\n",
        "\n",
        "        running_loss += loss.item()\n",
        "\n",
        "    with torch.no_grad():\n",
        "        for data in testloader:\n",
        "            images, labels = data[0].to(device), data[1].to(device)\n",
        "            # calculate outputs by running images through the network\n",
        "            outputs = net(images.to(device))\n",
        "            # the class with the highest energy is what we choose as prediction\n",
        "            _, predicted = torch.max(outputs.data, 1)\n",
        "            total += labels.size(0)\n",
        "            correct += (predicted == labels).sum().item()\n",
        "\n",
        "    print(f'epoch : {epoch} \\t train_loss : {loss:.4f} \\t val_corr : {correct / total:.4f}')\n",
        "print('Finished Training')"
      ],
      "metadata": {
        "id": "L7gcN-RtfLlv",
        "colab": {
          "base_uri": "https://localhost:8080/",
          "height": 85,
          "referenced_widgets": [
            "9d753af7878444d09dfa4eec39358863",
            "8618d5000b9b49348dc24bbc8416a72e",
            "88c65bc485e44df9834c1a3132c96f5c",
            "39e9ffc8340c4d8187bff8780fb8de9b",
            "4680a9ebebc04b4881a9b50cfb99eda6",
            "221f3dd0c99f487bb0687d001c4f897f",
            "b483e596ffe142a4924da3417616cd1f",
            "582926cabcba4a549e68c2b581965db0",
            "dbfe084a750d463c910efab315a601fe",
            "8f7ce0876d724c309555ff07a56a0fda",
            "6e72b0d561e44ad8954932a626561edc"
          ]
        },
        "outputId": "58b99fce-45b1-45a4-f7d3-92a1549aed50"
      },
      "execution_count": null,
      "outputs": [
        {
          "output_type": "display_data",
          "data": {
            "text/plain": [
              "  0%|          | 0/50 [00:00<?, ?it/s]"
            ],
            "application/vnd.jupyter.widget-view+json": {
              "version_major": 2,
              "version_minor": 0,
              "model_id": "9d753af7878444d09dfa4eec39358863"
            }
          },
          "metadata": {}
        },
        {
          "output_type": "stream",
          "name": "stdout",
          "text": [
            "epoch : 0 \t train_loss : 1.9310 \t val_corr : 0.3274\n",
            "epoch : 1 \t train_loss : 1.7076 \t val_corr : 0.4118\n"
          ]
        }
      ]
    },
    {
      "cell_type": "code",
      "source": [
        "correct_pred = {classname: 0 for classname in classes}\n",
        "total_pred = {classname: 0 for classname in classes}\n",
        "\n",
        "temp = [[0]*len(classes)]*len(classes)\n",
        "temp_tensor = torch.tensor(temp).to(device)\n",
        "metric = MulticlassConfusionMatrix(len(classes)).to(device)\n",
        "\n",
        "with torch.no_grad():\n",
        "    for data in testloader:\n",
        "        images, labels = data[0].to(device), data[1].to(device)\n",
        "        outputs = net(images.to(device))\n",
        "        _, predictions = torch.max(outputs, 1)\n",
        "\n",
        "        temp_tensor += metric(predictions, labels)\n",
        "        for label, prediction in zip(labels, predictions):\n",
        "            if label == prediction:\n",
        "                correct_pred[classes[label]] += 1\n",
        "            total_pred[classes[label]] += 1\n",
        "\n",
        "\n",
        "for classname, correct_count in correct_pred.items():\n",
        "    accuracy = 100 * float(correct_count) / total_pred[classname]\n",
        "    print(f'Accuracy for class: {classname:5s} is {accuracy:.1f} %')\n",
        "\n",
        "\n",
        "save = temp_tensor.to('cpu')\n",
        "metrix = np.array(save)\n",
        "plt.figure(figsize = (30, 30))\n",
        "for_heatmap = []\n",
        "for i in classes:\n",
        "  for_heatmap.append(unicodedata.normalize('NFC',i))\n",
        "sns.heatmap(metrix, annot=True, cmap='Blues',fmt='g',xticklabels=for_heatmap,yticklabels=for_heatmap)\n",
        "plt.xlabel('Predicted')\n",
        "plt.ylabel('True')\n",
        "plt.show()"
      ],
      "metadata": {
        "id": "fQDpAJLgkn39"
      },
      "execution_count": null,
      "outputs": []
    },
    {
      "cell_type": "markdown",
      "source": [
        "## Print filters of first layer"
      ],
      "metadata": {
        "id": "Wm8z2S8auU3x"
      }
    },
    {
      "cell_type": "code",
      "source": [
        "# for w in net.parameters():\n",
        "#   w = w.data.cpu()\n",
        "#   print(w.shape)\n",
        "#   break\n",
        "\n",
        "# min_w = torch.min(w)\n",
        "# w1 = (-1/(2 * min_w)) * w + 0.5\n",
        "\n",
        "# grid_size = len(w1)\n",
        "# x_grid = [w1[i] for i in range(grid_size)]\n",
        "# x_grid = make_grid(x_grid, nrow=8, padding=1).permute(1,2,0)\n",
        "\n",
        "# plt.figure(figsize=(10,10))\n",
        "# plt.imshow(x_grid)\n",
        "# plt.show()"
      ],
      "metadata": {
        "collapsed": true,
        "id": "Fs00Zv37uT4-"
      },
      "execution_count": null,
      "outputs": []
    },
    {
      "cell_type": "code",
      "source": [
        "torch.save({'model' : net.state_dict(),\n",
        "            'optimizer' : optimizer.state_dict()},\n",
        "            './my_model.pt')"
      ],
      "metadata": {
        "id": "9zFWMjHewthz"
      },
      "execution_count": null,
      "outputs": []
    }
  ]
}